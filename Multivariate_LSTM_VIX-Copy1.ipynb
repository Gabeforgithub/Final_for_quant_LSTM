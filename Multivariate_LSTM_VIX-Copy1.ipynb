{
 "cells": [
  {
   "cell_type": "code",
   "execution_count": 102,
   "metadata": {},
   "outputs": [],
   "source": [
    "import pandas as pd\n",
    "import datetime\n",
    "import numpy as np\n",
    "import matplotlib.pyplot as plt\n",
    "import seaborn as sns\n",
    "from tensorflow.keras.models import Sequential\n",
    "from tensorflow.keras.layers import *\n",
    "from tensorflow.keras.callbacks import EarlyStopping\n",
    "from tensorflow.keras.optimizers import Adam\n",
    "from tensorflow.keras.models import load_model\n",
    "from sklearn.preprocessing import MinMaxScaler\n",
    "from sklearn.model_selection import train_test_split\n",
    "from tensorflow.keras.callbacks import EarlyStopping\n",
    "import investpy"
   ]
  },
  {
   "cell_type": "code",
   "execution_count": 103,
   "metadata": {},
   "outputs": [
    {
     "name": "stdout",
     "output_type": "stream",
     "text": [
      "<class 'pandas.core.frame.DataFrame'>\n",
      "DatetimeIndex: 3714 entries, 2007-01-04 to 2022-01-28\n",
      "Data columns (total 6 columns):\n",
      " #   Column    Non-Null Count  Dtype  \n",
      "---  ------    --------------  -----  \n",
      " 0   Open      3714 non-null   float64\n",
      " 1   High      3714 non-null   float64\n",
      " 2   Low       3714 non-null   float64\n",
      " 3   Close     3714 non-null   float64\n",
      " 4   Volume    3714 non-null   int64  \n",
      " 5   Currency  3714 non-null   object \n",
      "dtypes: float64(4), int64(1), object(1)\n",
      "memory usage: 203.1+ KB\n",
      "None\n"
     ]
    }
   ],
   "source": [
    "df=investpy.indices.get_index_historical_data('VIX' , 'united states',  from_date='03/01/2007' , to_date='29/01/2022') \n",
    "##자산 클래스 입맞에 맞게 설정\n",
    "print(df.info())\n"
   ]
  },
  {
   "cell_type": "code",
   "execution_count": 104,
   "metadata": {},
   "outputs": [
    {
     "data": {
      "text/plain": [
       "Open        0\n",
       "High        0\n",
       "Low         0\n",
       "Close       0\n",
       "Volume      0\n",
       "Currency    0\n",
       "dtype: int64"
      ]
     },
     "execution_count": 104,
     "metadata": {},
     "output_type": "execute_result"
    }
   ],
   "source": [
    "df.isnull().sum() ### 데이터프레임 전체 결측값 합계"
   ]
  },
  {
   "cell_type": "code",
   "execution_count": 105,
   "metadata": {},
   "outputs": [
    {
     "name": "stdout",
     "output_type": "stream",
     "text": [
      "<class 'pandas.core.frame.DataFrame'>\n",
      "DatetimeIndex: 3714 entries, 2007-01-04 to 2022-01-28\n",
      "Data columns (total 6 columns):\n",
      " #   Column    Non-Null Count  Dtype  \n",
      "---  ------    --------------  -----  \n",
      " 0   Open      3714 non-null   float64\n",
      " 1   High      3714 non-null   float64\n",
      " 2   Low       3714 non-null   float64\n",
      " 3   Close     3714 non-null   float64\n",
      " 4   Volume    3714 non-null   int64  \n",
      " 5   Currency  3714 non-null   object \n",
      "dtypes: float64(4), int64(1), object(1)\n",
      "memory usage: 203.1+ KB\n"
     ]
    }
   ],
   "source": [
    "df.dropna(inplace=True)\n",
    "# df.reset_index(drop=True, inplace=True)\n",
    "df.info()"
   ]
  },
  {
   "cell_type": "code",
   "execution_count": 106,
   "metadata": {},
   "outputs": [],
   "source": [
    "df=df.drop(['Volume','Currency'], axis=1)\n"
   ]
  },
  {
   "cell_type": "code",
   "execution_count": 107,
   "metadata": {},
   "outputs": [],
   "source": [
    "df['Change'] = df['Close'].pct_change()\n",
    "df['Change'] = df['Change'].fillna(0)"
   ]
  },
  {
   "cell_type": "code",
   "execution_count": 108,
   "metadata": {},
   "outputs": [
    {
     "data": {
      "text/html": [
       "<div>\n",
       "<style scoped>\n",
       "    .dataframe tbody tr th:only-of-type {\n",
       "        vertical-align: middle;\n",
       "    }\n",
       "\n",
       "    .dataframe tbody tr th {\n",
       "        vertical-align: top;\n",
       "    }\n",
       "\n",
       "    .dataframe thead th {\n",
       "        text-align: right;\n",
       "    }\n",
       "</style>\n",
       "<table border=\"1\" class=\"dataframe\">\n",
       "  <thead>\n",
       "    <tr style=\"text-align: right;\">\n",
       "      <th></th>\n",
       "      <th>Open</th>\n",
       "      <th>High</th>\n",
       "      <th>Low</th>\n",
       "      <th>Close</th>\n",
       "      <th>Change</th>\n",
       "    </tr>\n",
       "    <tr>\n",
       "      <th>Date</th>\n",
       "      <th></th>\n",
       "      <th></th>\n",
       "      <th></th>\n",
       "      <th></th>\n",
       "      <th></th>\n",
       "    </tr>\n",
       "  </thead>\n",
       "  <tbody>\n",
       "    <tr>\n",
       "      <th>2022-01-07</th>\n",
       "      <td>28711.53</td>\n",
       "      <td>28813.09</td>\n",
       "      <td>28293.70</td>\n",
       "      <td>28478.56</td>\n",
       "      <td>-0.000327</td>\n",
       "    </tr>\n",
       "    <tr>\n",
       "      <th>2022-01-11</th>\n",
       "      <td>28380.90</td>\n",
       "      <td>28473.47</td>\n",
       "      <td>28089.49</td>\n",
       "      <td>28222.48</td>\n",
       "      <td>-0.008992</td>\n",
       "    </tr>\n",
       "    <tr>\n",
       "      <th>2022-01-12</th>\n",
       "      <td>28449.53</td>\n",
       "      <td>28814.31</td>\n",
       "      <td>28427.60</td>\n",
       "      <td>28765.66</td>\n",
       "      <td>0.019246</td>\n",
       "    </tr>\n",
       "    <tr>\n",
       "      <th>2022-01-13</th>\n",
       "      <td>28658.22</td>\n",
       "      <td>28660.45</td>\n",
       "      <td>28444.96</td>\n",
       "      <td>28489.13</td>\n",
       "      <td>-0.009613</td>\n",
       "    </tr>\n",
       "    <tr>\n",
       "      <th>2022-01-14</th>\n",
       "      <td>28246.99</td>\n",
       "      <td>28252.96</td>\n",
       "      <td>27889.21</td>\n",
       "      <td>28124.28</td>\n",
       "      <td>-0.012807</td>\n",
       "    </tr>\n",
       "    <tr>\n",
       "      <th>2022-01-17</th>\n",
       "      <td>28332.72</td>\n",
       "      <td>28449.99</td>\n",
       "      <td>28274.18</td>\n",
       "      <td>28333.52</td>\n",
       "      <td>0.007440</td>\n",
       "    </tr>\n",
       "    <tr>\n",
       "      <th>2022-01-18</th>\n",
       "      <td>28451.34</td>\n",
       "      <td>28690.34</td>\n",
       "      <td>28129.66</td>\n",
       "      <td>28257.25</td>\n",
       "      <td>-0.002692</td>\n",
       "    </tr>\n",
       "    <tr>\n",
       "      <th>2022-01-19</th>\n",
       "      <td>27928.89</td>\n",
       "      <td>27958.17</td>\n",
       "      <td>27314.41</td>\n",
       "      <td>27467.23</td>\n",
       "      <td>-0.027958</td>\n",
       "    </tr>\n",
       "    <tr>\n",
       "      <th>2022-01-20</th>\n",
       "      <td>27401.43</td>\n",
       "      <td>27882.53</td>\n",
       "      <td>27217.59</td>\n",
       "      <td>27772.93</td>\n",
       "      <td>0.011130</td>\n",
       "    </tr>\n",
       "    <tr>\n",
       "      <th>2022-01-21</th>\n",
       "      <td>27404.36</td>\n",
       "      <td>27586.42</td>\n",
       "      <td>27129.61</td>\n",
       "      <td>27522.26</td>\n",
       "      <td>-0.009026</td>\n",
       "    </tr>\n",
       "    <tr>\n",
       "      <th>2022-01-24</th>\n",
       "      <td>27258.45</td>\n",
       "      <td>27627.60</td>\n",
       "      <td>27203.33</td>\n",
       "      <td>27588.37</td>\n",
       "      <td>0.002402</td>\n",
       "    </tr>\n",
       "    <tr>\n",
       "      <th>2022-01-25</th>\n",
       "      <td>27466.82</td>\n",
       "      <td>27493.75</td>\n",
       "      <td>26890.94</td>\n",
       "      <td>27131.34</td>\n",
       "      <td>-0.016566</td>\n",
       "    </tr>\n",
       "    <tr>\n",
       "      <th>2022-01-26</th>\n",
       "      <td>27105.98</td>\n",
       "      <td>27184.54</td>\n",
       "      <td>26858.68</td>\n",
       "      <td>27011.33</td>\n",
       "      <td>-0.004423</td>\n",
       "    </tr>\n",
       "    <tr>\n",
       "      <th>2022-01-27</th>\n",
       "      <td>27139.88</td>\n",
       "      <td>27193.59</td>\n",
       "      <td>26044.52</td>\n",
       "      <td>26170.30</td>\n",
       "      <td>-0.031136</td>\n",
       "    </tr>\n",
       "    <tr>\n",
       "      <th>2022-01-28</th>\n",
       "      <td>26429.85</td>\n",
       "      <td>26764.85</td>\n",
       "      <td>26289.69</td>\n",
       "      <td>26717.34</td>\n",
       "      <td>0.020903</td>\n",
       "    </tr>\n",
       "  </tbody>\n",
       "</table>\n",
       "</div>"
      ],
      "text/plain": [
       "                Open      High       Low     Close    Change\n",
       "Date                                                        \n",
       "2022-01-07  28711.53  28813.09  28293.70  28478.56 -0.000327\n",
       "2022-01-11  28380.90  28473.47  28089.49  28222.48 -0.008992\n",
       "2022-01-12  28449.53  28814.31  28427.60  28765.66  0.019246\n",
       "2022-01-13  28658.22  28660.45  28444.96  28489.13 -0.009613\n",
       "2022-01-14  28246.99  28252.96  27889.21  28124.28 -0.012807\n",
       "2022-01-17  28332.72  28449.99  28274.18  28333.52  0.007440\n",
       "2022-01-18  28451.34  28690.34  28129.66  28257.25 -0.002692\n",
       "2022-01-19  27928.89  27958.17  27314.41  27467.23 -0.027958\n",
       "2022-01-20  27401.43  27882.53  27217.59  27772.93  0.011130\n",
       "2022-01-21  27404.36  27586.42  27129.61  27522.26 -0.009026\n",
       "2022-01-24  27258.45  27627.60  27203.33  27588.37  0.002402\n",
       "2022-01-25  27466.82  27493.75  26890.94  27131.34 -0.016566\n",
       "2022-01-26  27105.98  27184.54  26858.68  27011.33 -0.004423\n",
       "2022-01-27  27139.88  27193.59  26044.52  26170.30 -0.031136\n",
       "2022-01-28  26429.85  26764.85  26289.69  26717.34  0.020903"
      ]
     },
     "execution_count": 108,
     "metadata": {},
     "output_type": "execute_result"
    }
   ],
   "source": [
    "df.tail(15)"
   ]
  },
  {
   "cell_type": "code",
   "execution_count": 109,
   "metadata": {},
   "outputs": [
    {
     "name": "stdout",
     "output_type": "stream",
     "text": [
      "[[0.43585171 0.43379133 0.4390004  0.43610577 0.44631674]\n",
      " [0.43555612 0.43158285 0.42604161 0.42500779 0.38722345]\n",
      " [0.42295758 0.42879324 0.42488763 0.43119789 0.47978253]\n",
      " [0.43032729 0.42619311 0.41908582 0.41869023 0.3792695 ]]\n",
      "(3714, 5)\n"
     ]
    }
   ],
   "source": [
    "minmaxscaler=MinMaxScaler()\n",
    "scaled_data=minmaxscaler.fit_transform(df)\n",
    "print(scaled_data[:4])\n",
    "print(scaled_data.shape)"
   ]
  },
  {
   "cell_type": "code",
   "execution_count": 110,
   "metadata": {},
   "outputs": [
    {
     "name": "stdout",
     "output_type": "stream",
     "text": [
      "[[0.43585171 0.43379133 0.4390004  0.43610577 0.44631674]\n",
      " [0.43555612 0.43158285 0.42604161 0.42500779 0.38722345]\n",
      " [0.42295758 0.42879324 0.42488763 0.43119789 0.47978253]\n",
      " [0.43032729 0.42619311 0.41908582 0.41869023 0.3792695 ]\n",
      " [0.42039583 0.42020155 0.41529551 0.41427653 0.42224467]\n",
      " [0.42129448 0.42456196 0.42307648 0.42354348 0.49717101]\n",
      " [0.42896105 0.42932288 0.43171326 0.43001856 0.48139424]\n",
      " [0.43026274 0.42992976 0.4330493  0.42970267 0.44462063]\n",
      " [0.42866377 0.43191626 0.42568304 0.43219641 0.45971186]\n",
      " [0.43269369 0.43502197 0.43494509 0.43683665 0.47115677]\n",
      " [0.43661106 0.43373858 0.43589576 0.43427516 0.43269113]\n",
      " [0.44041292 0.43822813 0.44263972 0.43909157 0.47202666]\n",
      " [0.43703278 0.43643071 0.43923562 0.43843055 0.44281127]\n",
      " [0.44361554 0.44111651 0.44676734 0.44261558 0.46853046]\n",
      " [0.44783232 0.44384324 0.443755   0.4405364  0.43534298]\n",
      " [0.43778619 0.43558369 0.43836578 0.43899629 0.43816525]\n",
      " [0.43885387 0.43843915 0.43915396 0.44105133 0.45721632]\n",
      " [0.44381472 0.44134862 0.4448222  0.44188681 0.45073568]\n",
      " [0.44312799 0.43878817 0.4373024  0.43736555 0.42243036]\n",
      " [0.43816757 0.44073372 0.44092512 0.44312796 0.47694728]\n",
      " [0.44632721 0.44451722 0.44822545 0.44429713 0.45248326]\n",
      " [0.44472399 0.44020408 0.43811652 0.43573016 0.40120315]\n",
      " [0.43848481 0.43606228 0.44024839 0.43835814 0.46031707]\n",
      " [0.43778024 0.43359551 0.43406206 0.43350785 0.4205694 ]\n",
      " [0.43779893 0.43467295 0.43462012 0.43351463 0.44635295]\n",
      " [0.43657624 0.44080758 0.43726199 0.44248558 0.4942533 ]\n",
      " [0.44261581 0.44428173 0.44430327 0.44744511 0.47249744]\n",
      " [0.45028238 0.45111397 0.45316677 0.45300045 0.4754477 ]\n",
      " [0.46000574 0.45624838 0.46024294 0.45912322 0.47818592]\n",
      " [0.4573531  0.45512199 0.45931482 0.4582094  0.44159871]] -> 0.4604222681204182\n",
      "30\n"
     ]
    }
   ],
   "source": [
    "sequence_X=[]\n",
    "sequence_Y=[]\n",
    "for i in range(len(scaled_data)-30):\n",
    "    x=scaled_data[i:i+30] #0~29\n",
    "    y=scaled_data[i+30][4] # [4]은 Change(등락률)만 찝는다. 이곳이 일변량과 다변량의 차이\n",
    "    sequence_X.append(x) \n",
    "    sequence_Y.append(y)\n",
    "\n",
    "    if i is 0:\n",
    "        print(x, '->',y)\n",
    "        print(len(x))"
   ]
  },
  {
   "cell_type": "code",
   "execution_count": 111,
   "metadata": {},
   "outputs": [
    {
     "name": "stdout",
     "output_type": "stream",
     "text": [
      "[[0.43585171 0.43379133 0.4390004  0.43610577 0.44631674]\n",
      " [0.43555612 0.43158285 0.42604161 0.42500779 0.38722345]\n",
      " [0.42295758 0.42879324 0.42488763 0.43119789 0.47978253]\n",
      " [0.43032729 0.42619311 0.41908582 0.41869023 0.3792695 ]\n",
      " [0.42039583 0.42020155 0.41529551 0.41427653 0.42224467]\n",
      " [0.42129448 0.42456196 0.42307648 0.42354348 0.49717101]\n",
      " [0.42896105 0.42932288 0.43171326 0.43001856 0.48139424]\n",
      " [0.43026274 0.42992976 0.4330493  0.42970267 0.44462063]\n",
      " [0.42866377 0.43191626 0.42568304 0.43219641 0.45971186]\n",
      " [0.43269369 0.43502197 0.43494509 0.43683665 0.47115677]\n",
      " [0.43661106 0.43373858 0.43589576 0.43427516 0.43269113]\n",
      " [0.44041292 0.43822813 0.44263972 0.43909157 0.47202666]\n",
      " [0.43703278 0.43643071 0.43923562 0.43843055 0.44281127]\n",
      " [0.44361554 0.44111651 0.44676734 0.44261558 0.46853046]\n",
      " [0.44783232 0.44384324 0.443755   0.4405364  0.43534298]\n",
      " [0.43778619 0.43558369 0.43836578 0.43899629 0.43816525]\n",
      " [0.43885387 0.43843915 0.43915396 0.44105133 0.45721632]\n",
      " [0.44381472 0.44134862 0.4448222  0.44188681 0.45073568]\n",
      " [0.44312799 0.43878817 0.4373024  0.43736555 0.42243036]\n",
      " [0.43816757 0.44073372 0.44092512 0.44312796 0.47694728]\n",
      " [0.44632721 0.44451722 0.44822545 0.44429713 0.45248326]\n",
      " [0.44472399 0.44020408 0.43811652 0.43573016 0.40120315]\n",
      " [0.43848481 0.43606228 0.44024839 0.43835814 0.46031707]\n",
      " [0.43778024 0.43359551 0.43406206 0.43350785 0.4205694 ]\n",
      " [0.43779893 0.43467295 0.43462012 0.43351463 0.44635295]\n",
      " [0.43657624 0.44080758 0.43726199 0.44248558 0.4942533 ]\n",
      " [0.44261581 0.44428173 0.44430327 0.44744511 0.47249744]\n",
      " [0.45028238 0.45111397 0.45316677 0.45300045 0.4754477 ]\n",
      " [0.46000574 0.45624838 0.46024294 0.45912322 0.47818592]\n",
      " [0.4573531  0.45512199 0.45931482 0.4582094  0.44159871]]\n",
      "0.4604222681204182\n",
      "(3684, 30, 5)\n",
      "(3684,)\n"
     ]
    }
   ],
   "source": [
    "sequence_X=np.array(sequence_X)\n",
    "sequence_Y=np.array(sequence_Y)\n",
    "print(sequence_X[0])\n",
    "print(sequence_Y[0])\n",
    "print(sequence_X.shape)\n",
    "print(sequence_Y.shape)"
   ]
  },
  {
   "cell_type": "code",
   "execution_count": 112,
   "metadata": {},
   "outputs": [],
   "source": [
    "last_test_data_X=sequence_X[-60:] #최근 30일간의 데이터를 학습시키기 위해 2배인 60개를 슬라이싱\n",
    "last_test_data_Y=sequence_Y[-60:]"
   ]
  },
  {
   "cell_type": "code",
   "execution_count": 113,
   "metadata": {},
   "outputs": [
    {
     "name": "stderr",
     "output_type": "stream",
     "text": [
      "C:\\Users\\Gabriel\\Anaconda3\\lib\\site-packages\\numpy\\core\\_asarray.py:136: VisibleDeprecationWarning: Creating an ndarray from ragged nested sequences (which is a list-or-tuple of lists-or-tuples-or ndarrays with different lengths or shapes) is deprecated. If you meant to do this, you must specify 'dtype=object' when creating the ndarray\n",
      "  return array(a, dtype, copy=False, order=order, subok=True)\n"
     ]
    }
   ],
   "source": [
    "X_train, X_test, Y_train, Y_test=train_test_split(\n",
    "sequence_X[:-30], sequence_Y[:-30], test_size=0.1)\n",
    "xy=X_train, X_test, Y_train, Y_test,last_test_data_X,last_test_data_Y\n",
    "np.save('./VIX_prepro',xy)"
   ]
  },
  {
   "cell_type": "code",
   "execution_count": 114,
   "metadata": {},
   "outputs": [],
   "source": [
    "# ##나중에 불러올때 \n",
    "# xy=np.load('./samsung_prepro.npy',allow_pickle=True)"
   ]
  },
  {
   "cell_type": "code",
   "execution_count": 115,
   "metadata": {},
   "outputs": [],
   "source": [
    "##MinMaxScaler 현재폴더에 저장 ##pickle은 현재 그 데이터 그 타잎 그대로 저장하는 명령어\n",
    "import pickle\n",
    "with open('./VIX_minmaxscaler_Change.pickle','wb') as f:\n",
    "    pickle.dump(minmaxscaler,f)"
   ]
  },
  {
   "cell_type": "code",
   "execution_count": 116,
   "metadata": {},
   "outputs": [],
   "source": [
    "# ##나중에 MinMaxScaler 불러올떄\n",
    "# with open('./samsung_stock_minmaxscaler.pickle','rb') as f:\n",
    "#     minmaxscaler=pickle.load(f)"
   ]
  },
  {
   "cell_type": "code",
   "execution_count": 117,
   "metadata": {},
   "outputs": [
    {
     "name": "stdout",
     "output_type": "stream",
     "text": [
      "_________________________________________________________________\n",
      "Layer (type)                 Output Shape              Param #   \n",
      "=================================================================\n",
      "lstm_2 (LSTM)                (None, 512)               1060864   \n",
      "_________________________________________________________________\n",
      "dropout_4 (Dropout)          (None, 512)               0         \n",
      "_________________________________________________________________\n",
      "flatten_2 (Flatten)          (None, 512)               0         \n",
      "_________________________________________________________________\n",
      "dense_4 (Dense)              (None, 128)               65664     \n",
      "_________________________________________________________________\n",
      "dropout_5 (Dropout)          (None, 128)               0         \n",
      "_________________________________________________________________\n",
      "dense_5 (Dense)              (None, 1)                 129       \n",
      "=================================================================\n",
      "Total params: 1,126,657\n",
      "Trainable params: 1,126,657\n",
      "Non-trainable params: 0\n",
      "_________________________________________________________________\n"
     ]
    }
   ],
   "source": [
    "model=Sequential()\n",
    "model.add(LSTM(512,input_shape=(30,5), activation='tanh'))\n",
    "model.add(Dropout(0.2))\n",
    "\n",
    "model.add(Flatten())\n",
    "\n",
    "model.add(Dense(128))\n",
    "model.add(Dropout(0.2))\n",
    "\n",
    "model.add(Dense(1))\n",
    "model.compile(loss='mse', optimizer='adam') ##값을 예측하는 모델에서는 마지막 layer에서 sigmoid activation을 쓰면 안됨\n",
    "model.summary()\n",
    "\n",
    "##30*6*50이 FLATTEN된 이후 FULLY CONNECTED 로 들어가짐"
   ]
  },
  {
   "cell_type": "code",
   "execution_count": 118,
   "metadata": {},
   "outputs": [
    {
     "name": "stdout",
     "output_type": "stream",
     "text": [
      "Train on 3288 samples, validate on 366 samples\n",
      "Epoch 1/100\n",
      "3288/3288 [==============================] - 37s 11ms/step - loss: 0.0129 - val_loss: 0.0053\n",
      "Epoch 2/100\n",
      "3288/3288 [==============================] - 35s 11ms/step - loss: 0.0047 - val_loss: 0.0050\n",
      "Epoch 3/100\n",
      "3288/3288 [==============================] - 37s 11ms/step - loss: 0.0046 - val_loss: 0.0052\n",
      "Epoch 4/100\n",
      "3288/3288 [==============================] - 36s 11ms/step - loss: 0.0044 - val_loss: 0.0050\n",
      "Epoch 5/100\n",
      "3288/3288 [==============================] - 37s 11ms/step - loss: 0.0044 - val_loss: 0.0049\n",
      "Epoch 6/100\n",
      "3288/3288 [==============================] - 37s 11ms/step - loss: 0.0042 - val_loss: 0.0046\n",
      "Epoch 7/100\n",
      "3288/3288 [==============================] - 39s 12ms/step - loss: 0.0042 - val_loss: 0.0047\n",
      "Epoch 8/100\n",
      "3288/3288 [==============================] - 39s 12ms/step - loss: 0.0041 - val_loss: 0.0046\n",
      "Epoch 9/100\n",
      "3288/3288 [==============================] - 39s 12ms/step - loss: 0.0040 - val_loss: 0.0047\n",
      "Epoch 10/100\n",
      "3288/3288 [==============================] - 39s 12ms/step - loss: 0.0040 - val_loss: 0.0045\n",
      "Epoch 11/100\n",
      "3288/3288 [==============================] - 39s 12ms/step - loss: 0.0040 - val_loss: 0.0044\n",
      "Epoch 12/100\n",
      "3288/3288 [==============================] - 39s 12ms/step - loss: 0.0038 - val_loss: 0.0047\n",
      "Epoch 13/100\n",
      "3288/3288 [==============================] - 39s 12ms/step - loss: 0.0039 - val_loss: 0.0046\n",
      "Epoch 14/100\n",
      "3288/3288 [==============================] - 39s 12ms/step - loss: 0.0039 - val_loss: 0.0046\n",
      "Epoch 15/100\n",
      "3288/3288 [==============================] - 39s 12ms/step - loss: 0.0039 - val_loss: 0.0046\n",
      "Epoch 16/100\n",
      "3288/3288 [==============================] - 39s 12ms/step - loss: 0.0039 - val_loss: 0.0044\n",
      "Epoch 17/100\n",
      "3288/3288 [==============================] - 39s 12ms/step - loss: 0.0038 - val_loss: 0.0044\n",
      "Epoch 18/100\n",
      "3288/3288 [==============================] - 39s 12ms/step - loss: 0.0038 - val_loss: 0.0044\n",
      "Epoch 19/100\n",
      "3288/3288 [==============================] - 39s 12ms/step - loss: 0.0038 - val_loss: 0.0044\n",
      "Epoch 20/100\n",
      "3288/3288 [==============================] - 39s 12ms/step - loss: 0.0038 - val_loss: 0.0044\n",
      "Epoch 21/100\n",
      "3288/3288 [==============================] - 39s 12ms/step - loss: 0.0038 - val_loss: 0.0044\n",
      "Epoch 22/100\n",
      "3288/3288 [==============================] - 39s 12ms/step - loss: 0.0038 - val_loss: 0.0044\n",
      "Epoch 23/100\n",
      "3288/3288 [==============================] - 39s 12ms/step - loss: 0.0038 - val_loss: 0.0044\n",
      "Epoch 24/100\n",
      "3288/3288 [==============================] - 40s 12ms/step - loss: 0.0038 - val_loss: 0.0044\n",
      "Epoch 25/100\n",
      "3288/3288 [==============================] - 39s 12ms/step - loss: 0.0037 - val_loss: 0.0045\n",
      "Epoch 26/100\n",
      "3288/3288 [==============================] - 40s 12ms/step - loss: 0.0038 - val_loss: 0.0044\n",
      "Epoch 27/100\n",
      "3288/3288 [==============================] - 40s 12ms/step - loss: 0.0038 - val_loss: 0.0044\n",
      "Epoch 28/100\n",
      "3288/3288 [==============================] - 39s 12ms/step - loss: 0.0037 - val_loss: 0.0044\n",
      "Epoch 29/100\n",
      "3288/3288 [==============================] - 40s 12ms/step - loss: 0.0037 - val_loss: 0.0045\n",
      "Epoch 30/100\n",
      "3288/3288 [==============================] - 40s 12ms/step - loss: 0.0038 - val_loss: 0.0044\n",
      "Epoch 31/100\n",
      "3288/3288 [==============================] - 39s 12ms/step - loss: 0.0037 - val_loss: 0.0045\n"
     ]
    }
   ],
   "source": [
    "#######에폭 돌리기 전 얼리스타핑을 걸어주면 굳이 100번까지 가지않고 과적합을 방지한다(중요)\n",
    "\n",
    "early_stopping=EarlyStopping(monitor='val_loss',patience=15)\n",
    "fit_hist=model.fit(X_train, Y_train, epochs=100,batch_size=50\n",
    "                  ,callbacks=[early_stopping], verbose=1,shuffle=False, validation_data=(X_test,Y_test)) \n",
    "#셔플=False의 의미==한 에폭안에서 섞어넣지 말고 시간순으로 입력\n",
    "# ####예측값이기 때문에 loss만 본다"
   ]
  },
  {
   "cell_type": "code",
   "execution_count": 119,
   "metadata": {},
   "outputs": [],
   "source": [
    "# model.save('./VIX_20211128_multivariation_Change.h5') ##모델 저장시에는 꼭 h5 쓸것"
   ]
  },
  {
   "cell_type": "code",
   "execution_count": 120,
   "metadata": {},
   "outputs": [],
   "source": [
    "# model=load_model('C:/Users/Gabriel/PycharmProjects/pythonProject2/Machine Learning/RNN_stock_close_predict_multivariation.h5')"
   ]
  },
  {
   "cell_type": "code",
   "execution_count": 121,
   "metadata": {},
   "outputs": [
    {
     "data": {
      "image/png": "[encoded data removed]",
      "text/plain": [
       "<Figure size 432x288 with 1 Axes>"
      ]
     },
     "metadata": {},
     "output_type": "display_data"
    }
   ],
   "source": [
    "plt.plot(fit_hist.history['loss'][10:],label='loss')\n",
    "plt.plot(fit_hist.history['val_loss'][10:],label='val_loss')\n",
    "plt.legend()\n",
    "plt.show()"
   ]
  },
  {
   "cell_type": "code",
   "execution_count": 1,
   "metadata": {},
   "outputs": [
    {
     "ename": "NameError",
     "evalue": "name 'model' is not defined",
     "output_type": "error",
     "traceback": [
      "\u001b[1;31m---------------------------------------------------------------------------\u001b[0m",
      "\u001b[1;31mNameError\u001b[0m                                 Traceback (most recent call last)",
      "\u001b[1;32m<ipython-input-1-35c48d94658e>\u001b[0m in \u001b[0;36m<module>\u001b[1;34m()\u001b[0m\n\u001b[1;32m----> 1\u001b[1;33m \u001b[0mscore\u001b[0m\u001b[1;33m=\u001b[0m\u001b[0mmodel\u001b[0m\u001b[1;33m.\u001b[0m\u001b[0mevaluate\u001b[0m\u001b[1;33m(\u001b[0m\u001b[0mX_test\u001b[0m\u001b[1;33m,\u001b[0m\u001b[0mY_test\u001b[0m\u001b[1;33m,\u001b[0m\u001b[0mverbose\u001b[0m\u001b[1;33m=\u001b[0m\u001b[1;36m0\u001b[0m\u001b[1;33m)\u001b[0m\u001b[1;33m\u001b[0m\u001b[0m\n\u001b[0m\u001b[0;32m      2\u001b[0m \u001b[0mprint\u001b[0m\u001b[1;33m(\u001b[0m\u001b[1;34m'LSTM val loss:'\u001b[0m\u001b[1;33m,\u001b[0m \u001b[0mscore\u001b[0m\u001b[1;33m)\u001b[0m\u001b[1;33m\u001b[0m\u001b[0m\n",
      "\u001b[1;31mNameError\u001b[0m: name 'model' is not defined"
     ]
    }
   ],
   "source": [
    "score=model.evaluate(X_test,Y_test,verbose=0)\n",
    "print('LSTM val loss:', score)\n"
   ]
  },
  {
   "cell_type": "code",
   "execution_count": 123,
   "metadata": {},
   "outputs": [],
   "source": [
    "predict=model.predict(X_test)"
   ]
  },
  {
   "cell_type": "code",
   "execution_count": 124,
   "metadata": {},
   "outputs": [
    {
     "data": {
      "image/png": "[encoded data removed]",
      "text/plain": [
       "<Figure size 432x288 with 1 Axes>"
      ]
     },
     "metadata": {},
     "output_type": "display_data"
    }
   ],
   "source": [
    "plt.plot(Y_test[-100:], label='actual') ##날짜순이 아닌 랜덤하게 \n",
    "plt.plot(predict[-100:], label='predict')\n",
    "plt.legend()\n",
    "plt.show()\n",
    "##시계열이 아닌 랜덤 predict와 actual의 차이"
   ]
  },
  {
   "cell_type": "code",
   "execution_count": 125,
   "metadata": {},
   "outputs": [
    {
     "data": {
      "image/png": "[encoded data removed]",
      "text/plain": [
       "<Figure size 432x288 with 1 Axes>"
      ]
     },
     "metadata": {},
     "output_type": "display_data"
    }
   ],
   "source": [
    "last_predict=model.predict(last_test_data_X)\n",
    "plt.plot(last_test_data_Y[-30:],label='actual')\n",
    "plt.plot(last_predict[-30:], label='predict') #마지막 30일치\n",
    "\n",
    "plt.legend()\n",
    "plt.show()\n",
    "##따라가는 추세이기 때문에 시계열분해의 추세를 없애버려야함 --분해시계열"
   ]
  },
  {
   "cell_type": "code",
   "execution_count": 126,
   "metadata": {},
   "outputs": [
    {
     "name": "stdout",
     "output_type": "stream",
     "text": [
      "[[0.4449254]]\n"
     ]
    }
   ],
   "source": [
    "tom_predict=model.predict(last_test_data_X[-1:].reshape(1,30,5))\n",
    "print(tom_predict)"
   ]
  },
  {
   "cell_type": "code",
   "execution_count": 127,
   "metadata": {},
   "outputs": [
    {
     "data": {
      "text/plain": [
       "array([[0.44631674],\n",
       "       [0.38722345],\n",
       "       [0.47978253],\n",
       "       ...,\n",
       "       [0.42900894],\n",
       "       [0.32448481],\n",
       "       [0.52810783]])"
      ]
     },
     "execution_count": 127,
     "metadata": {},
     "output_type": "execute_result"
    }
   ],
   "source": [
    "minmaxscaler_close=MinMaxScaler()\n",
    "minmaxscaler_close.fit_transform(df[['Change']])"
   ]
  },
  {
   "cell_type": "code",
   "execution_count": 128,
   "metadata": {},
   "outputs": [
    {
     "name": "stdout",
     "output_type": "stream",
     "text": [
      "-0.035558 \n"
     ]
    }
   ],
   "source": [
    "tom_predicted_value=minmaxscaler_close.inverse_transform(tom_predict)\n",
    "tom_predicted_value=tom_predicted_value*100\n",
    "print('% 2f ' % tom_predicted_value)"
   ]
  },
  {
   "cell_type": "code",
   "execution_count": null,
   "metadata": {},
   "outputs": [],
   "source": []
  }
 ],
 "metadata": {
  "kernelspec": {
   "display_name": "Python 3",
   "language": "python",
   "name": "python3"
  },
  "language_info": {
   "codemirror_mode": {
    "name": "ipython",
    "version": 3
   },
   "file_extension": ".py",
   "mimetype": "text/x-python",
   "name": "python",
   "nbconvert_exporter": "python",
   "pygments_lexer": "ipython3",
   "version": "3.6.5"
  }
 },
 "nbformat": 4,
 "nbformat_minor": 2
}
